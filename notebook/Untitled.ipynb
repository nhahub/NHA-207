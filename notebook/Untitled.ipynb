{
 "cells": [
  {
   "cell_type": "code",
   "execution_count": 1,
   "id": "2dc80b15-6118-4e7f-a280-d3dec6b33de8",
   "metadata": {},
   "outputs": [
    {
     "name": "stdout",
     "output_type": "stream",
     "text": [
      "hello mohamed\n"
     ]
    }
   ],
   "source": [
    "import pandas as pd"
   ]
  },
  {
   "cell_type": "code",
   "execution_count": null,
   "id": "30a753ad-3d88-4f15-8d79-fe53fb3489d3",
   "metadata": {},
   "outputs": [],
   "source": [
    "# load all tables"
   ]
  },
  {
   "cell_type": "code",
   "execution_count": 5,
   "id": "0280b3c4-46ac-4b5d-89af-5b6b68b0ad63",
   "metadata": {},
   "outputs": [
    {
     "ename": "NameError",
     "evalue": "name 'pd' is not defined",
     "output_type": "error",
     "traceback": [
      "\u001b[31m---------------------------------------------------------------------------\u001b[39m",
      "\u001b[31mNameError\u001b[39m                                 Traceback (most recent call last)",
      "\u001b[36mCell\u001b[39m\u001b[36m \u001b[39m\u001b[32mIn[5]\u001b[39m\u001b[32m, line 1\u001b[39m\n\u001b[32m----> \u001b[39m\u001b[32m1\u001b[39m employeeDF = \u001b[43mpd\u001b[49m.read_csv(\u001b[33m\"\u001b[39m\u001b[33m../data/raw/Employee.csv\u001b[39m\u001b[33m\"\u001b[39m)\n\u001b[32m      2\u001b[39m education_levelDF = pd.read_csv(\u001b[33m\"\u001b[39m\u001b[33m../data/raw/EducationLevel.csv\u001b[39m\u001b[33m\"\u001b[39m)\n\u001b[32m      3\u001b[39m performanceDF = pd.read_csv(\u001b[33m\"\u001b[39m\u001b[33m../data/raw/PerformanceRating.csv\u001b[39m\u001b[33m\"\u001b[39m)\n",
      "\u001b[31mNameError\u001b[39m: name 'pd' is not defined"
     ]
    }
   ],
   "source": [
    "employeeDF = pd.read_csv(\"../data/raw/Employee.csv\")\n",
    "education_levelDF = pd.read_csv(\"../data/raw/EducationLevel.csv\")\n",
    "performanceDF = pd.read_csv(\"../data/raw/PerformanceRating.csv\")\n",
    "rating_levelDF = pd.read_csv(\"../data/raw/RatingLevel.csv\")\n",
    "satisfaction_levelDF = pd.read_csv(\"../data/raw/SatisfiedLevel.csv\")\n",
    "print('data is loaded')"
   ]
  },
  {
   "cell_type": "code",
   "execution_count": null,
   "id": "0c8abcee-d7ae-4b95-8e35-1b05c0186b45",
   "metadata": {},
   "outputs": [],
   "source": [
    "# cleaning the columns names"
   ]
  },
  {
   "cell_type": "code",
   "execution_count": 46,
   "id": "cc9c0e9d-ec35-4dd2-bef5-bbd5c8e89cb7",
   "metadata": {},
   "outputs": [],
   "source": [
    "def clean_columns(df):\n",
    "    df.columns = df.columns.str.strip().str.replace(\" \", \"_\").str.replace(\"(\", \"\").str.replace(\")\", \"\").str.lower()\n",
    "    return df\n",
    "\n",
    "employeeDF = clean_columns(employeeDF)\n",
    "education_levelDF = clean_columns(education_levelDF)\n",
    "performanceDF = clean_columns(performanceDF)\n",
    "rating_levelDF = clean_columns(rating_levelDF)\n",
    "satisfaction_levelDF = clean_columns(satisfaction_levelDF)"
   ]
  },
  {
   "cell_type": "markdown",
   "id": "ae6883aa-2690-45e7-b795-5e58a98359f6",
   "metadata": {},
   "source": [
    "change the employee columns data types"
   ]
  },
  {
   "cell_type": "code",
   "execution_count": 20,
   "id": "74660e2c-75dc-4474-aed8-b4198e6726a5",
   "metadata": {},
   "outputs": [],
   "source": [
    "# Numeric columns\n",
    "num_cols = ['age','distancefromhome_km','education','salary','stockoptionlevel',\n",
    "            'yearsatcompany','yearsinmostrecentrole','yearssincelastpromotion','yearswithcurrmanager']\n",
    "\n",
    "employeeDF[num_cols] = employeeDF[num_cols].apply(pd.to_numeric, errors='coerce')\n",
    "# Dates\n",
    "employeeDF['hiredate'] = pd.to_datetime(employeeDF['hiredate'], errors='coerce')\n"
   ]
  },
  {
   "cell_type": "markdown",
   "id": "d4425b72-43b9-4b69-ab49-62826d30160c",
   "metadata": {},
   "source": [
    "change the performance columns data types"
   ]
  },
  {
   "cell_type": "code",
   "execution_count": 24,
   "id": "3b9077d4-c00d-4abb-8e87-e20a40f7a02b",
   "metadata": {},
   "outputs": [],
   "source": [
    "performance_numeric = ['environmentsatisfaction','jobsatisfaction','relationshipsatisfaction',\n",
    "                       'trainingopportunitieswithinyear','trainingopportunitiestaken',\n",
    "                       'worklifebalance','selfrating','managerrating']\n",
    "\n",
    "performanceDF[performance_numeric] = performanceDF[performance_numeric].apply(pd.to_numeric, errors='coerce')\n",
    "performanceDF['reviewdate'] = pd.to_datetime(performanceDF['reviewdate'], errors='coerce')"
   ]
  },
  {
   "cell_type": "markdown",
   "id": "e67820bd-5b1a-4522-aadb-67853ffa0f05",
   "metadata": {},
   "source": [
    "remove the spaces and capitalize the first letter"
   ]
  },
  {
   "cell_type": "code",
   "execution_count": 41,
   "id": "c5c271b0-a910-4101-89f3-6461fb0d002c",
   "metadata": {},
   "outputs": [],
   "source": [
    "cat_cols_employee = ['firstname','lastname','gender','businesstravel','department','state','ethnicity',\n",
    "                     'educationfield','jobrole','maritalstatus','overtime','attrition']\n",
    "\n",
    "\n",
    "cat_cols_education = ['educationlevel']\n",
    "\n",
    "# cat_cols_performance = ['environmentsatisfaction',\n",
    "#        'jobsatisfaction', 'relationshipsatisfaction',\n",
    "#        'trainingopportunitieswithinyear', 'trainingopportunitiestaken',\n",
    "#        'worklifebalance', 'selfrating', 'managerrating']\n",
    "\n",
    "cat_cols_rating = ['ratinglevel']\n",
    "\n",
    "cat_cols_satisfaction = ['satisfactionlevel']"
   ]
  },
  {
   "cell_type": "code",
   "execution_count": 48,
   "id": "c1994022-ad3a-4faf-a25a-a42ce616a158",
   "metadata": {},
   "outputs": [],
   "source": [
    "def clean_categorical(df, cat_cols):\n",
    "     df[cat_cols] = df[cat_cols].apply(lambda x: x.str.strip().str.title())\n",
    "     return df\n",
    "\n",
    "employeeDF = clean_categorical(employeeDF, cat_cols_employee)\n",
    "education_levelDF = clean_categorical(education_levelDF, cat_cols_education)\n",
    "# performanceDF = clean_categorical(performanceDF, cat_cols_performance)\n",
    "rating_levelDF = clean_categorical(rating_levelDF, cat_cols_rating)\n",
    "satisfaction_levelDF = clean_categorical(satisfaction_levelDF, cat_cols_satisfaction)\n",
    "\n"
   ]
  },
  {
   "cell_type": "markdown",
   "id": "0433400c-fa07-4584-820c-eba301c063e7",
   "metadata": {},
   "source": [
    "remove duplicates from the employee table"
   ]
  },
  {
   "cell_type": "code",
   "execution_count": 49,
   "id": "a35e51a3-c8a0-4365-a119-fba5783c579c",
   "metadata": {},
   "outputs": [],
   "source": [
    "employeeDF.drop_duplicates(subset='employeeid', inplace=True)"
   ]
  },
  {
   "cell_type": "markdown",
   "id": "bbf1aeb6-c5ad-4002-b7bd-79817392fc3a",
   "metadata": {},
   "source": [
    "insert the median for every missing value, drop the row of the missing employee id"
   ]
  },
  {
   "cell_type": "code",
   "execution_count": 50,
   "id": "e125a87e-6e64-4ca0-a328-db7e547ed645",
   "metadata": {},
   "outputs": [],
   "source": [
    "for col in num_cols:\n",
    "    employeeDF[col].fillna(employeeDF[col].median(), inplace=True)\n",
    "\n",
    "# Drop rows with missing IDs\n",
    "employeeDF.dropna(subset=['employeeid'], inplace=True)"
   ]
  },
  {
   "cell_type": "code",
   "execution_count": 51,
   "id": "87b35c77-e59e-4e49-bc93-787d934d9282",
   "metadata": {},
   "outputs": [],
   "source": [
    "employeeDF.to_csv(\"../data/clean/employee_clean.csv\", index=False)\n",
    "performanceDF.to_csv(\"../data/clean/performance_clean.csv\", index=False)\n",
    "education_levelDF.to_csv(\"../data/clean/education_level_clean.csv\", index=False)\n",
    "rating_levelDF.to_csv(\"../data/clean/rating_level_clean.csv\", index=False)\n",
    "satisfaction_levelDF.to_csv(\"../data/clean/satisfaction_clean.csv\", index=False)\n",
    "\n"
   ]
  }
 ],
 "metadata": {
  "kernelspec": {
   "display_name": "Python (.venv)",
   "language": "python",
   "name": ".venv"
  },
  "language_info": {
   "codemirror_mode": {
    "name": "ipython",
    "version": 3
   },
   "file_extension": ".py",
   "mimetype": "text/x-python",
   "name": "python",
   "nbconvert_exporter": "python",
   "pygments_lexer": "ipython3",
   "version": "3.14.0"
  }
 },
 "nbformat": 4,
 "nbformat_minor": 5
}
